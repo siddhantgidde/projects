{
    "metadata": {
        "kernelspec": {
            "name": "SQL",
            "display_name": "SQL",
            "language": "sql"
        },
        "language_info": {
            "name": "sql",
            "version": ""
        }
    },
    "nbformat_minor": 2,
    "nbformat": 4,
    "cells": [
        {
            "cell_type": "code",
            "source": [
                "SELECT age, Gender\r\n",
                "FROM shopping_trends\r\n",
                "where age < 19"
            ],
            "metadata": {
                "azdata_cell_guid": "92a63312-70cb-4fad-b05c-f3d6826d4f0f",
                "language": "sql"
            },
            "outputs": [
                {
                    "output_type": "display_data",
                    "data": {
                        "text/html": "(69 rows affected)"
                    },
                    "metadata": {}
                },
                {
                    "output_type": "display_data",
                    "data": {
                        "text/html": "Total execution time: 00:00:00.016"
                    },
                    "metadata": {}
                },
                {
                    "output_type": "execute_result",
                    "metadata": {
                        "azdata_chartOptions": {
                            "type": "pie",
                            "dataDirection": "horizontal",
                            "columnsAsLabels": true,
                            "labelFirstColumn": false,
                            "legendPosition": "top",
                            "encoding": "hex",
                            "imageFormat": "jpeg",
                            "dataType": "number"
                        }
                    },
                    "execution_count": 4,
                    "data": {
                        "application/vnd.dataresource+json": {
                            "schema": {
                                "fields": [
                                    {
                                        "name": "age"
                                    },
                                    {
                                        "name": "Gender"
                                    }
                                ]
                            },
                            "data": [
                                {
                                    "age": "18",
                                    "Gender": "Male"
                                },
                                {
                                    "age": "18",
                                    "Gender": "Male"
                                },
                                {
                                    "age": "18",
                                    "Gender": "Male"
                                },
                                {
                                    "age": "18",
                                    "Gender": "Male"
                                },
                                {
                                    "age": "18",
                                    "Gender": "Male"
                                },
                                {
                                    "age": "18",
                                    "Gender": "Male"
                                },
                                {
                                    "age": "18",
                                    "Gender": "Male"
                                },
                                {
                                    "age": "18",
                                    "Gender": "Male"
                                },
                                {
                                    "age": "18",
                                    "Gender": "Male"
                                },
                                {
                                    "age": "18",
                                    "Gender": "Male"
                                },
                                {
                                    "age": "18",
                                    "Gender": "Male"
                                },
                                {
                                    "age": "18",
                                    "Gender": "Male"
                                },
                                {
                                    "age": "18",
                                    "Gender": "Male"
                                },
                                {
                                    "age": "18",
                                    "Gender": "Male"
                                },
                                {
                                    "age": "18",
                                    "Gender": "Male"
                                },
                                {
                                    "age": "18",
                                    "Gender": "Male"
                                },
                                {
                                    "age": "18",
                                    "Gender": "Male"
                                },
                                {
                                    "age": "18",
                                    "Gender": "Male"
                                },
                                {
                                    "age": "18",
                                    "Gender": "Male"
                                },
                                {
                                    "age": "18",
                                    "Gender": "Male"
                                },
                                {
                                    "age": "18",
                                    "Gender": "Male"
                                },
                                {
                                    "age": "18",
                                    "Gender": "Male"
                                },
                                {
                                    "age": "18",
                                    "Gender": "Male"
                                },
                                {
                                    "age": "18",
                                    "Gender": "Male"
                                },
                                {
                                    "age": "18",
                                    "Gender": "Male"
                                },
                                {
                                    "age": "18",
                                    "Gender": "Male"
                                },
                                {
                                    "age": "18",
                                    "Gender": "Male"
                                },
                                {
                                    "age": "18",
                                    "Gender": "Male"
                                },
                                {
                                    "age": "18",
                                    "Gender": "Male"
                                },
                                {
                                    "age": "18",
                                    "Gender": "Male"
                                },
                                {
                                    "age": "18",
                                    "Gender": "Male"
                                },
                                {
                                    "age": "18",
                                    "Gender": "Male"
                                },
                                {
                                    "age": "18",
                                    "Gender": "Male"
                                },
                                {
                                    "age": "18",
                                    "Gender": "Male"
                                },
                                {
                                    "age": "18",
                                    "Gender": "Male"
                                },
                                {
                                    "age": "18",
                                    "Gender": "Male"
                                },
                                {
                                    "age": "18",
                                    "Gender": "Male"
                                },
                                {
                                    "age": "18",
                                    "Gender": "Male"
                                },
                                {
                                    "age": "18",
                                    "Gender": "Male"
                                },
                                {
                                    "age": "18",
                                    "Gender": "Male"
                                },
                                {
                                    "age": "18",
                                    "Gender": "Male"
                                },
                                {
                                    "age": "18",
                                    "Gender": "Male"
                                },
                                {
                                    "age": "18",
                                    "Gender": "Male"
                                },
                                {
                                    "age": "18",
                                    "Gender": "Male"
                                },
                                {
                                    "age": "18",
                                    "Gender": "Male"
                                },
                                {
                                    "age": "18",
                                    "Gender": "Male"
                                },
                                {
                                    "age": "18",
                                    "Gender": "Male"
                                },
                                {
                                    "age": "18",
                                    "Gender": "Male"
                                },
                                {
                                    "age": "18",
                                    "Gender": "Male"
                                },
                                {
                                    "age": "18",
                                    "Gender": "Female"
                                },
                                {
                                    "age": "18",
                                    "Gender": "Female"
                                },
                                {
                                    "age": "18",
                                    "Gender": "Female"
                                },
                                {
                                    "age": "18",
                                    "Gender": "Female"
                                },
                                {
                                    "age": "18",
                                    "Gender": "Female"
                                },
                                {
                                    "age": "18",
                                    "Gender": "Female"
                                },
                                {
                                    "age": "18",
                                    "Gender": "Female"
                                },
                                {
                                    "age": "18",
                                    "Gender": "Female"
                                },
                                {
                                    "age": "18",
                                    "Gender": "Female"
                                },
                                {
                                    "age": "18",
                                    "Gender": "Female"
                                },
                                {
                                    "age": "18",
                                    "Gender": "Female"
                                },
                                {
                                    "age": "18",
                                    "Gender": "Female"
                                },
                                {
                                    "age": "18",
                                    "Gender": "Female"
                                },
                                {
                                    "age": "18",
                                    "Gender": "Female"
                                },
                                {
                                    "age": "18",
                                    "Gender": "Female"
                                },
                                {
                                    "age": "18",
                                    "Gender": "Female"
                                },
                                {
                                    "age": "18",
                                    "Gender": "Female"
                                },
                                {
                                    "age": "18",
                                    "Gender": "Female"
                                },
                                {
                                    "age": "18",
                                    "Gender": "Female"
                                },
                                {
                                    "age": "18",
                                    "Gender": "Female"
                                }
                            ]
                        },
                        "text/html": [
                            "<table>",
                            "<tr><th>age</th><th>Gender</th></tr>",
                            "<tr><td>18</td><td>Male</td></tr>",
                            "<tr><td>18</td><td>Male</td></tr>",
                            "<tr><td>18</td><td>Male</td></tr>",
                            "<tr><td>18</td><td>Male</td></tr>",
                            "<tr><td>18</td><td>Male</td></tr>",
                            "<tr><td>18</td><td>Male</td></tr>",
                            "<tr><td>18</td><td>Male</td></tr>",
                            "<tr><td>18</td><td>Male</td></tr>",
                            "<tr><td>18</td><td>Male</td></tr>",
                            "<tr><td>18</td><td>Male</td></tr>",
                            "<tr><td>18</td><td>Male</td></tr>",
                            "<tr><td>18</td><td>Male</td></tr>",
                            "<tr><td>18</td><td>Male</td></tr>",
                            "<tr><td>18</td><td>Male</td></tr>",
                            "<tr><td>18</td><td>Male</td></tr>",
                            "<tr><td>18</td><td>Male</td></tr>",
                            "<tr><td>18</td><td>Male</td></tr>",
                            "<tr><td>18</td><td>Male</td></tr>",
                            "<tr><td>18</td><td>Male</td></tr>",
                            "<tr><td>18</td><td>Male</td></tr>",
                            "<tr><td>18</td><td>Male</td></tr>",
                            "<tr><td>18</td><td>Male</td></tr>",
                            "<tr><td>18</td><td>Male</td></tr>",
                            "<tr><td>18</td><td>Male</td></tr>",
                            "<tr><td>18</td><td>Male</td></tr>",
                            "<tr><td>18</td><td>Male</td></tr>",
                            "<tr><td>18</td><td>Male</td></tr>",
                            "<tr><td>18</td><td>Male</td></tr>",
                            "<tr><td>18</td><td>Male</td></tr>",
                            "<tr><td>18</td><td>Male</td></tr>",
                            "<tr><td>18</td><td>Male</td></tr>",
                            "<tr><td>18</td><td>Male</td></tr>",
                            "<tr><td>18</td><td>Male</td></tr>",
                            "<tr><td>18</td><td>Male</td></tr>",
                            "<tr><td>18</td><td>Male</td></tr>",
                            "<tr><td>18</td><td>Male</td></tr>",
                            "<tr><td>18</td><td>Male</td></tr>",
                            "<tr><td>18</td><td>Male</td></tr>",
                            "<tr><td>18</td><td>Male</td></tr>",
                            "<tr><td>18</td><td>Male</td></tr>",
                            "<tr><td>18</td><td>Male</td></tr>",
                            "<tr><td>18</td><td>Male</td></tr>",
                            "<tr><td>18</td><td>Male</td></tr>",
                            "<tr><td>18</td><td>Male</td></tr>",
                            "<tr><td>18</td><td>Male</td></tr>",
                            "<tr><td>18</td><td>Male</td></tr>",
                            "<tr><td>18</td><td>Male</td></tr>",
                            "<tr><td>18</td><td>Male</td></tr>",
                            "<tr><td>18</td><td>Male</td></tr>",
                            "<tr><td>18</td><td>Female</td></tr>",
                            "<tr><td>18</td><td>Female</td></tr>",
                            "<tr><td>18</td><td>Female</td></tr>",
                            "<tr><td>18</td><td>Female</td></tr>",
                            "<tr><td>18</td><td>Female</td></tr>",
                            "<tr><td>18</td><td>Female</td></tr>",
                            "<tr><td>18</td><td>Female</td></tr>",
                            "<tr><td>18</td><td>Female</td></tr>",
                            "<tr><td>18</td><td>Female</td></tr>",
                            "<tr><td>18</td><td>Female</td></tr>",
                            "<tr><td>18</td><td>Female</td></tr>",
                            "<tr><td>18</td><td>Female</td></tr>",
                            "<tr><td>18</td><td>Female</td></tr>",
                            "<tr><td>18</td><td>Female</td></tr>",
                            "<tr><td>18</td><td>Female</td></tr>",
                            "<tr><td>18</td><td>Female</td></tr>",
                            "<tr><td>18</td><td>Female</td></tr>",
                            "<tr><td>18</td><td>Female</td></tr>",
                            "<tr><td>18</td><td>Female</td></tr>",
                            "<tr><td>18</td><td>Female</td></tr>",
                            "</table>"
                        ]
                    }
                }
            ],
            "execution_count": 4
        },
        {
            "cell_type": "code",
            "source": [
                "SELECT \r\n",
                "FROM shopping_trends"
            ],
            "metadata": {
                "azdata_cell_guid": "3a28c416-3fbc-4008-b6c6-b464b9394a1d",
                "language": "sql"
            },
            "outputs": [
                {
                    "output_type": "display_data",
                    "data": {
                        "text/html": "(2 rows affected)"
                    },
                    "metadata": {}
                },
                {
                    "output_type": "display_data",
                    "data": {
                        "text/html": "Total execution time: 00:00:00.018"
                    },
                    "metadata": {}
                },
                {
                    "output_type": "execute_result",
                    "metadata": {
                        "azdata_chartOptions": {
                            "type": "bar",
                            "dataDirection": "horizontal",
                            "columnsAsLabels": true,
                            "labelFirstColumn": false,
                            "legendPosition": "top"
                        }
                    },
                    "execution_count": 3,
                    "data": {
                        "application/vnd.dataresource+json": {
                            "schema": {
                                "fields": [
                                    {
                                        "name": "Gender"
                                    }
                                ]
                            },
                            "data": [
                                {
                                    "Gender": "Male"
                                },
                                {
                                    "Gender": "Female"
                                }
                            ]
                        },
                        "text/html": [
                            "<table>",
                            "<tr><th>Gender</th></tr>",
                            "<tr><td>Male</td></tr>",
                            "<tr><td>Female</td></tr>",
                            "</table>"
                        ]
                    }
                }
            ],
            "execution_count": 3
        }
    ]
}